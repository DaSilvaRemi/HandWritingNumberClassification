{
 "cells": [
  {
   "cell_type": "code",
   "execution_count": 57,
   "metadata": {},
   "outputs": [],
   "source": [
    "import network3\n",
    "import numpy as np\n",
    "import matplotlib.pyplot as plt\n",
    "from network3 import Network, ConvPoolLayer, FullyConnectedLayer, SoftmaxLayer # softmax plus log-likelihood cost is more common in modern image classification networks."
   ]
  },
  {
   "cell_type": "code",
   "execution_count": 95,
   "metadata": {},
   "outputs": [],
   "source": [
    "training_data, validation_data, test_data = network3.load_data_shared()\n",
    "# mini-batch size:\n",
    "mini_batch_size = 10"
   ]
  },
  {
   "cell_type": "code",
   "execution_count": 79,
   "metadata": {},
   "outputs": [
    {
     "name": "stdout",
     "output_type": "stream",
     "text": [
      "Training mini-batch number 0\n",
      "Training mini-batch number 1000\n",
      "Training mini-batch number 2000\n",
      "Training mini-batch number 3000\n",
      "Training mini-batch number 4000\n",
      "Epoch 0: validation accuracy 96.64%\n",
      "This is the best validation accuracy to date.\n",
      "The corresponding test accuracy is 96.94%\n",
      "Finished training network.\n",
      "Best validation accuracy of 96.64% obtained at iteration 4999\n",
      "Corresponding test accuracy of 96.94%\n"
     ]
    }
   ],
   "source": [
    "from network3 import ReLU\n",
    "net = Network([\n",
    "    ConvPoolLayer(image_shape=(mini_batch_size, 1, 28, 28),\n",
    "                  filter_shape=(20, 1, 5, 5),\n",
    "                  poolsize=(2, 2),\n",
    "                  activation_fn=ReLU),\n",
    "    ConvPoolLayer(image_shape=(mini_batch_size, 20, 12, 12),\n",
    "                  filter_shape=(40, 20, 5, 5),\n",
    "                  poolsize=(2, 2),\n",
    "                  activation_fn=ReLU),\n",
    "    FullyConnectedLayer(n_in=40*4*4, n_out=100, activation_fn=ReLU),\n",
    "    SoftmaxLayer(n_in=100, n_out=10)], mini_batch_size)\n",
    "net.SGD(training_data, 1, mini_batch_size, 0.03, validation_data, test_data, lmbda=0.1)"
   ]
  },
  {
   "cell_type": "code",
   "execution_count": 132,
   "metadata": {},
   "outputs": [
    {
     "data": {
      "text/plain": [
       "Elemwise{Cast{int32}}.0"
      ]
     },
     "execution_count": 132,
     "metadata": {},
     "output_type": "execute_result"
    }
   ],
   "source": [
    "test_x, test_y = test_data\n",
    "test_y"
   ]
  },
  {
   "cell_type": "code",
   "execution_count": 134,
   "metadata": {},
   "outputs": [
    {
     "name": "stderr",
     "output_type": "stream",
     "text": [
      "INFO (theano.gof.compilelock): Refreshing lock /root/.theano/compiledir_Linux-5.10-microsoft-standard-WSL2-x86_64-with-debian-9.12--2.7.18-64/lock_dir/lock\n"
     ]
    },
    {
     "data": {
      "text/plain": [
       "array([6, 0, 5, 4, 9, 9, 2, 1, 9, 4], dtype=int32)"
      ]
     },
     "execution_count": 134,
     "metadata": {},
     "output_type": "execute_result"
    }
   ],
   "source": [
    "test_y[10*10: (10+1)*10].eval()"
   ]
  },
  {
   "cell_type": "code",
   "execution_count": 139,
   "metadata": {},
   "outputs": [
    {
     "name": "stdout",
     "output_type": "stream",
     "text": [
      "('test_y[j]', 7, ' predictions ', array([7, 2, 1, 0, 4, 1, 4, 9, 6, 9]), 'predictions[j] ', 7)\n",
      "('test_y[j]', 2, ' predictions ', array([7, 2, 1, 0, 4, 1, 4, 9, 6, 9]), 'predictions[j] ', 2)\n",
      "('test_y[j]', 1, ' predictions ', array([7, 2, 1, 0, 4, 1, 4, 9, 6, 9]), 'predictions[j] ', 1)\n",
      "('test_y[j]', 0, ' predictions ', array([7, 2, 1, 0, 4, 1, 4, 9, 6, 9]), 'predictions[j] ', 0)\n",
      "('test_y[j]', 4, ' predictions ', array([7, 2, 1, 0, 4, 1, 4, 9, 6, 9]), 'predictions[j] ', 4)\n",
      "('test_y[j]', 1, ' predictions ', array([7, 2, 1, 0, 4, 1, 4, 9, 6, 9]), 'predictions[j] ', 1)\n",
      "('test_y[j]', 4, ' predictions ', array([7, 2, 1, 0, 4, 1, 4, 9, 6, 9]), 'predictions[j] ', 4)\n",
      "('test_y[j]', 9, ' predictions ', array([7, 2, 1, 0, 4, 1, 4, 9, 6, 9]), 'predictions[j] ', 9)\n",
      "('test_y[j]', 5, ' predictions ', array([7, 2, 1, 0, 4, 1, 4, 9, 6, 9]), 'predictions[j] ', 6)\n",
      "('test_y[j]', 9, ' predictions ', array([7, 2, 1, 0, 4, 1, 4, 9, 6, 9]), 'predictions[j] ', 9)\n",
      "('test_y[j]', 0, ' predictions ', array([0, 6, 9, 0, 1, 5, 9, 7, 3, 4]), 'predictions[j] ', 0)\n",
      "('test_y[j]', 6, ' predictions ', array([0, 6, 9, 0, 1, 5, 9, 7, 3, 4]), 'predictions[j] ', 6)\n",
      "('test_y[j]', 9, ' predictions ', array([0, 6, 9, 0, 1, 5, 9, 7, 3, 4]), 'predictions[j] ', 9)\n",
      "('test_y[j]', 0, ' predictions ', array([0, 6, 9, 0, 1, 5, 9, 7, 3, 4]), 'predictions[j] ', 0)\n",
      "('test_y[j]', 1, ' predictions ', array([0, 6, 9, 0, 1, 5, 9, 7, 3, 4]), 'predictions[j] ', 1)\n",
      "('test_y[j]', 5, ' predictions ', array([0, 6, 9, 0, 1, 5, 9, 7, 3, 4]), 'predictions[j] ', 5)\n",
      "('test_y[j]', 9, ' predictions ', array([0, 6, 9, 0, 1, 5, 9, 7, 3, 4]), 'predictions[j] ', 9)\n",
      "('test_y[j]', 7, ' predictions ', array([0, 6, 9, 0, 1, 5, 9, 7, 3, 4]), 'predictions[j] ', 7)\n",
      "('test_y[j]', 3, ' predictions ', array([0, 6, 9, 0, 1, 5, 9, 7, 3, 4]), 'predictions[j] ', 3)\n",
      "('test_y[j]', 4, ' predictions ', array([0, 6, 9, 0, 1, 5, 9, 7, 3, 4]), 'predictions[j] ', 4)\n",
      "('test_y[j]', 9, ' predictions ', array([9, 6, 6, 5, 4, 0, 7, 4, 0, 1]), 'predictions[j] ', 9)\n",
      "('test_y[j]', 6, ' predictions ', array([9, 6, 6, 5, 4, 0, 7, 4, 0, 1]), 'predictions[j] ', 6)\n",
      "('test_y[j]', 6, ' predictions ', array([9, 6, 6, 5, 4, 0, 7, 4, 0, 1]), 'predictions[j] ', 6)\n",
      "('test_y[j]', 5, ' predictions ', array([9, 6, 6, 5, 4, 0, 7, 4, 0, 1]), 'predictions[j] ', 5)\n",
      "('test_y[j]', 4, ' predictions ', array([9, 6, 6, 5, 4, 0, 7, 4, 0, 1]), 'predictions[j] ', 4)\n",
      "('test_y[j]', 0, ' predictions ', array([9, 6, 6, 5, 4, 0, 7, 4, 0, 1]), 'predictions[j] ', 0)\n",
      "('test_y[j]', 7, ' predictions ', array([9, 6, 6, 5, 4, 0, 7, 4, 0, 1]), 'predictions[j] ', 7)\n",
      "('test_y[j]', 4, ' predictions ', array([9, 6, 6, 5, 4, 0, 7, 4, 0, 1]), 'predictions[j] ', 4)\n",
      "('test_y[j]', 0, ' predictions ', array([9, 6, 6, 5, 4, 0, 7, 4, 0, 1]), 'predictions[j] ', 0)\n",
      "('test_y[j]', 1, ' predictions ', array([9, 6, 6, 5, 4, 0, 7, 4, 0, 1]), 'predictions[j] ', 1)\n",
      "('test_y[j]', 3, ' predictions ', array([3, 1, 3, 6, 7, 2, 7, 1, 1, 1]), 'predictions[j] ', 3)\n",
      "('test_y[j]', 1, ' predictions ', array([3, 1, 3, 6, 7, 2, 7, 1, 1, 1]), 'predictions[j] ', 1)\n",
      "('test_y[j]', 3, ' predictions ', array([3, 1, 3, 6, 7, 2, 7, 1, 1, 1]), 'predictions[j] ', 3)\n",
      "('test_y[j]', 4, ' predictions ', array([3, 1, 3, 6, 7, 2, 7, 1, 1, 1]), 'predictions[j] ', 6)\n",
      "('test_y[j]', 7, ' predictions ', array([3, 1, 3, 6, 7, 2, 7, 1, 1, 1]), 'predictions[j] ', 7)\n",
      "('test_y[j]', 2, ' predictions ', array([3, 1, 3, 6, 7, 2, 7, 1, 1, 1]), 'predictions[j] ', 2)\n",
      "('test_y[j]', 7, ' predictions ', array([3, 1, 3, 6, 7, 2, 7, 1, 1, 1]), 'predictions[j] ', 7)\n",
      "('test_y[j]', 1, ' predictions ', array([3, 1, 3, 6, 7, 2, 7, 1, 1, 1]), 'predictions[j] ', 1)\n",
      "('test_y[j]', 2, ' predictions ', array([3, 1, 3, 6, 7, 2, 7, 1, 1, 1]), 'predictions[j] ', 1)\n",
      "('test_y[j]', 1, ' predictions ', array([3, 1, 3, 6, 7, 2, 7, 1, 1, 1]), 'predictions[j] ', 1)\n",
      "('test_y[j]', 1, ' predictions ', array([1, 7, 4, 2, 3, 5, 1, 2, 4, 4]), 'predictions[j] ', 1)\n",
      "('test_y[j]', 7, ' predictions ', array([1, 7, 4, 2, 3, 5, 1, 2, 4, 4]), 'predictions[j] ', 7)\n",
      "('test_y[j]', 4, ' predictions ', array([1, 7, 4, 2, 3, 5, 1, 2, 4, 4]), 'predictions[j] ', 4)\n",
      "('test_y[j]', 2, ' predictions ', array([1, 7, 4, 2, 3, 5, 1, 2, 4, 4]), 'predictions[j] ', 2)\n",
      "('test_y[j]', 3, ' predictions ', array([1, 7, 4, 2, 3, 5, 1, 2, 4, 4]), 'predictions[j] ', 3)\n",
      "('test_y[j]', 5, ' predictions ', array([1, 7, 4, 2, 3, 5, 1, 2, 4, 4]), 'predictions[j] ', 5)\n",
      "('test_y[j]', 1, ' predictions ', array([1, 7, 4, 2, 3, 5, 1, 2, 4, 4]), 'predictions[j] ', 1)\n",
      "('test_y[j]', 2, ' predictions ', array([1, 7, 4, 2, 3, 5, 1, 2, 4, 4]), 'predictions[j] ', 2)\n",
      "('test_y[j]', 4, ' predictions ', array([1, 7, 4, 2, 3, 5, 1, 2, 4, 4]), 'predictions[j] ', 4)\n",
      "('test_y[j]', 4, ' predictions ', array([1, 7, 4, 2, 3, 5, 1, 2, 4, 4]), 'predictions[j] ', 4)\n",
      "('test_y[j]', 6, ' predictions ', array([6, 3, 5, 5, 6, 0, 4, 1, 9, 5]), 'predictions[j] ', 6)\n",
      "('test_y[j]', 3, ' predictions ', array([6, 3, 5, 5, 6, 0, 4, 1, 9, 5]), 'predictions[j] ', 3)\n",
      "('test_y[j]', 5, ' predictions ', array([6, 3, 5, 5, 6, 0, 4, 1, 9, 5]), 'predictions[j] ', 5)\n",
      "('test_y[j]', 5, ' predictions ', array([6, 3, 5, 5, 6, 0, 4, 1, 9, 5]), 'predictions[j] ', 5)\n",
      "('test_y[j]', 6, ' predictions ', array([6, 3, 5, 5, 6, 0, 4, 1, 9, 5]), 'predictions[j] ', 6)\n",
      "('test_y[j]', 0, ' predictions ', array([6, 3, 5, 5, 6, 0, 4, 1, 9, 5]), 'predictions[j] ', 0)\n",
      "('test_y[j]', 4, ' predictions ', array([6, 3, 5, 5, 6, 0, 4, 1, 9, 5]), 'predictions[j] ', 4)\n",
      "('test_y[j]', 1, ' predictions ', array([6, 3, 5, 5, 6, 0, 4, 1, 9, 5]), 'predictions[j] ', 1)\n",
      "('test_y[j]', 9, ' predictions ', array([6, 3, 5, 5, 6, 0, 4, 1, 9, 5]), 'predictions[j] ', 9)\n",
      "('test_y[j]', 5, ' predictions ', array([6, 3, 5, 5, 6, 0, 4, 1, 9, 5]), 'predictions[j] ', 5)\n",
      "('test_y[j]', 7, ' predictions ', array([7, 8, 9, 3, 7, 4, 6, 4, 3, 0]), 'predictions[j] ', 7)\n",
      "('test_y[j]', 8, ' predictions ', array([7, 8, 9, 3, 7, 4, 6, 4, 3, 0]), 'predictions[j] ', 8)\n",
      "('test_y[j]', 9, ' predictions ', array([7, 8, 9, 3, 7, 4, 6, 4, 3, 0]), 'predictions[j] ', 9)\n",
      "('test_y[j]', 3, ' predictions ', array([7, 8, 9, 3, 7, 4, 6, 4, 3, 0]), 'predictions[j] ', 3)\n",
      "('test_y[j]', 7, ' predictions ', array([7, 8, 9, 3, 7, 4, 6, 4, 3, 0]), 'predictions[j] ', 7)\n",
      "('test_y[j]', 4, ' predictions ', array([7, 8, 9, 3, 7, 4, 6, 4, 3, 0]), 'predictions[j] ', 4)\n",
      "('test_y[j]', 6, ' predictions ', array([7, 8, 9, 3, 7, 4, 6, 4, 3, 0]), 'predictions[j] ', 6)\n",
      "('test_y[j]', 4, ' predictions ', array([7, 8, 9, 3, 7, 4, 6, 4, 3, 0]), 'predictions[j] ', 4)\n",
      "('test_y[j]', 3, ' predictions ', array([7, 8, 9, 3, 7, 4, 6, 4, 3, 0]), 'predictions[j] ', 3)\n",
      "('test_y[j]', 0, ' predictions ', array([7, 8, 9, 3, 7, 4, 6, 4, 3, 0]), 'predictions[j] ', 0)\n",
      "('test_y[j]', 7, ' predictions ', array([7, 0, 2, 9, 1, 7, 3, 2, 9, 7]), 'predictions[j] ', 7)\n",
      "('test_y[j]', 0, ' predictions ', array([7, 0, 2, 9, 1, 7, 3, 2, 9, 7]), 'predictions[j] ', 0)\n",
      "('test_y[j]', 2, ' predictions ', array([7, 0, 2, 9, 1, 7, 3, 2, 9, 7]), 'predictions[j] ', 2)\n",
      "('test_y[j]', 9, ' predictions ', array([7, 0, 2, 9, 1, 7, 3, 2, 9, 7]), 'predictions[j] ', 9)\n",
      "('test_y[j]', 1, ' predictions ', array([7, 0, 2, 9, 1, 7, 3, 2, 9, 7]), 'predictions[j] ', 1)\n",
      "('test_y[j]', 7, ' predictions ', array([7, 0, 2, 9, 1, 7, 3, 2, 9, 7]), 'predictions[j] ', 7)\n",
      "('test_y[j]', 3, ' predictions ', array([7, 0, 2, 9, 1, 7, 3, 2, 9, 7]), 'predictions[j] ', 3)\n",
      "('test_y[j]', 2, ' predictions ', array([7, 0, 2, 9, 1, 7, 3, 2, 9, 7]), 'predictions[j] ', 2)\n",
      "('test_y[j]', 9, ' predictions ', array([7, 0, 2, 9, 1, 7, 3, 2, 9, 7]), 'predictions[j] ', 9)\n",
      "('test_y[j]', 7, ' predictions ', array([7, 0, 2, 9, 1, 7, 3, 2, 9, 7]), 'predictions[j] ', 7)\n",
      "('test_y[j]', 7, ' predictions ', array([7, 6, 2, 7, 8, 4, 7, 3, 6, 1]), 'predictions[j] ', 7)\n",
      "('test_y[j]', 6, ' predictions ', array([7, 6, 2, 7, 8, 4, 7, 3, 6, 1]), 'predictions[j] ', 6)\n",
      "('test_y[j]', 2, ' predictions ', array([7, 6, 2, 7, 8, 4, 7, 3, 6, 1]), 'predictions[j] ', 2)\n",
      "('test_y[j]', 7, ' predictions ', array([7, 6, 2, 7, 8, 4, 7, 3, 6, 1]), 'predictions[j] ', 7)\n",
      "('test_y[j]', 8, ' predictions ', array([7, 6, 2, 7, 8, 4, 7, 3, 6, 1]), 'predictions[j] ', 8)\n",
      "('test_y[j]', 4, ' predictions ', array([7, 6, 2, 7, 8, 4, 7, 3, 6, 1]), 'predictions[j] ', 4)\n",
      "('test_y[j]', 7, ' predictions ', array([7, 6, 2, 7, 8, 4, 7, 3, 6, 1]), 'predictions[j] ', 7)\n",
      "('test_y[j]', 3, ' predictions ', array([7, 6, 2, 7, 8, 4, 7, 3, 6, 1]), 'predictions[j] ', 3)\n",
      "('test_y[j]', 6, ' predictions ', array([7, 6, 2, 7, 8, 4, 7, 3, 6, 1]), 'predictions[j] ', 6)\n",
      "('test_y[j]', 1, ' predictions ', array([7, 6, 2, 7, 8, 4, 7, 3, 6, 1]), 'predictions[j] ', 1)\n",
      "('test_y[j]', 3, ' predictions ', array([3, 6, 9, 3, 1, 4, 1, 7, 6, 9]), 'predictions[j] ', 3)\n",
      "('test_y[j]', 6, ' predictions ', array([3, 6, 9, 3, 1, 4, 1, 7, 6, 9]), 'predictions[j] ', 6)\n",
      "('test_y[j]', 9, ' predictions ', array([3, 6, 9, 3, 1, 4, 1, 7, 6, 9]), 'predictions[j] ', 9)\n",
      "('test_y[j]', 3, ' predictions ', array([3, 6, 9, 3, 1, 4, 1, 7, 6, 9]), 'predictions[j] ', 3)\n",
      "('test_y[j]', 1, ' predictions ', array([3, 6, 9, 3, 1, 4, 1, 7, 6, 9]), 'predictions[j] ', 1)\n",
      "('test_y[j]', 4, ' predictions ', array([3, 6, 9, 3, 1, 4, 1, 7, 6, 9]), 'predictions[j] ', 4)\n",
      "('test_y[j]', 1, ' predictions ', array([3, 6, 9, 3, 1, 4, 1, 7, 6, 9]), 'predictions[j] ', 1)\n",
      "('test_y[j]', 7, ' predictions ', array([3, 6, 9, 3, 1, 4, 1, 7, 6, 9]), 'predictions[j] ', 7)\n",
      "('test_y[j]', 6, ' predictions ', array([3, 6, 9, 3, 1, 4, 1, 7, 6, 9]), 'predictions[j] ', 6)\n",
      "('test_y[j]', 9, ' predictions ', array([3, 6, 9, 3, 1, 4, 1, 7, 6, 9]), 'predictions[j] ', 9)\n",
      "('test_y[j]', 6, ' predictions ', array([6, 0, 5, 4, 5, 9, 2, 1, 9, 4]), 'predictions[j] ', 6)\n",
      "('test_y[j]', 0, ' predictions ', array([6, 0, 5, 4, 5, 9, 2, 1, 9, 4]), 'predictions[j] ', 0)\n",
      "('test_y[j]', 5, ' predictions ', array([6, 0, 5, 4, 5, 9, 2, 1, 9, 4]), 'predictions[j] ', 5)\n",
      "('test_y[j]', 4, ' predictions ', array([6, 0, 5, 4, 5, 9, 2, 1, 9, 4]), 'predictions[j] ', 4)\n",
      "('test_y[j]', 9, ' predictions ', array([6, 0, 5, 4, 5, 9, 2, 1, 9, 4]), 'predictions[j] ', 5)\n",
      "('test_y[j]', 9, ' predictions ', array([6, 0, 5, 4, 5, 9, 2, 1, 9, 4]), 'predictions[j] ', 9)\n",
      "('test_y[j]', 2, ' predictions ', array([6, 0, 5, 4, 5, 9, 2, 1, 9, 4]), 'predictions[j] ', 2)\n",
      "('test_y[j]', 1, ' predictions ', array([6, 0, 5, 4, 5, 9, 2, 1, 9, 4]), 'predictions[j] ', 1)\n",
      "('test_y[j]', 9, ' predictions ', array([6, 0, 5, 4, 5, 9, 2, 1, 9, 4]), 'predictions[j] ', 9)\n",
      "('test_y[j]', 4, ' predictions ', array([6, 0, 5, 4, 5, 9, 2, 1, 9, 4]), 'predictions[j] ', 4)\n"
     ]
    }
   ],
   "source": [
    "test_accuracies = []\n",
    "for i in range (0, mini_batch_size+1):\n",
    "    predictions = net.test_mb_predictions(i)\n",
    "    predictions = np.array(predictions)\n",
    "    test_accuracy = []\n",
    "    \n",
    "    test_y2 = test_y[i*10: (i+1)*10].eval()\n",
    "    \n",
    "    for j in range(0, len(predictions)):\n",
    "        print(\"test_y[j]\", test_y2[j], \" predictions \", predictions, \"predictions[j] \", predictions[j])\n",
    "        test_accuracy.append(test_y2[j] == predictions[j])\n",
    "\n",
    "    test_accuracy = np.mean(test_accuracy)\n",
    "    test_accuracies.append(test_accuracy * 100)"
   ]
  },
  {
   "cell_type": "code",
   "execution_count": 136,
   "metadata": {},
   "outputs": [
    {
     "data": {
      "image/png": "[encoded data removed]",
      "text/plain": [
       "<Figure size 432x288 with 1 Axes>"
      ]
     },
     "metadata": {
      "needs_background": "light"
     },
     "output_type": "display_data"
    }
   ],
   "source": [
    "plt.plot(test_accuracies)\n",
    "plt.xlabel('Batch')\n",
    "plt.ylabel('Test Accuracy')\n",
    "plt.show()"
   ]
  },
  {
   "cell_type": "code",
   "execution_count": 137,
   "metadata": {},
   "outputs": [
    {
     "data": {
      "text/plain": [
       "[90.0, 100.0, 100.0, 80.0, 100.0, 100.0, 100.0, 100.0, 100.0, 100.0, 90.0]"
      ]
     },
     "execution_count": 137,
     "metadata": {},
     "output_type": "execute_result"
    }
   ],
   "source": [
    "test_accuracies"
   ]
  },
  {
   "cell_type": "code",
   "execution_count": 138,
   "metadata": {},
   "outputs": [
    {
     "data": {
      "text/plain": [
       "96.36363636363636"
      ]
     },
     "execution_count": 138,
     "metadata": {},
     "output_type": "execute_result"
    }
   ],
   "source": [
    "np.mean(test_accuracies)"
   ]
  },
  {
   "cell_type": "code",
   "execution_count": 91,
   "metadata": {},
   "outputs": [],
   "source": []
  }
 ],
 "metadata": {
  "kernelspec": {
   "display_name": "Python 2",
   "language": "python",
   "name": "python2"
  },
  "language_info": {
   "codemirror_mode": {
    "name": "ipython",
    "version": 2
   },
   "file_extension": ".py",
   "mimetype": "text/x-python",
   "name": "python",
   "nbconvert_exporter": "python",
   "pygments_lexer": "ipython2",
   "version": "2.7.18"
  }
 },
 "nbformat": 4,
 "nbformat_minor": 2
}
