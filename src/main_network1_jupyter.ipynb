{
 "cells": [
  {
   "cell_type": "code",
   "execution_count": 1,
   "metadata": {},
   "outputs": [],
   "source": [
    "import network\n",
    "import numpy as np\n",
    "import matplotlib.pyplot as plt\n",
    "import mnist_loader"
   ]
  },
  {
   "cell_type": "code",
   "execution_count": 2,
   "metadata": {},
   "outputs": [],
   "source": [
    "training_data, validation_data, test_data = mnist_loader.load_data_wrapper()\n",
    "training_data = list(training_data)"
   ]
  },
  {
   "cell_type": "code",
   "execution_count": 3,
   "metadata": {},
   "outputs": [
    {
     "name": "stdout",
     "output_type": "stream",
     "text": [
      "Epoch 0: 9096 / 10000\n",
      "Epoch 1: 9187 / 10000\n",
      "Epoch 2: 9269 / 10000\n",
      "Epoch 3: 9314 / 10000\n",
      "Epoch 4: 9325 / 10000\n",
      "Epoch 5: 9298 / 10000\n",
      "Epoch 6: 9356 / 10000\n",
      "Epoch 7: 9358 / 10000\n",
      "Epoch 8: 9397 / 10000\n",
      "Epoch 9: 9405 / 10000\n",
      "Epoch 10: 9381 / 10000\n",
      "Epoch 11: 9403 / 10000\n",
      "Epoch 12: 9421 / 10000\n",
      "Epoch 13: 9420 / 10000\n",
      "Epoch 14: 9400 / 10000\n",
      "Epoch 15: 9432 / 10000\n",
      "Epoch 16: 9417 / 10000\n",
      "Epoch 17: 9447 / 10000\n",
      "Epoch 18: 9439 / 10000\n",
      "Epoch 19: 9433 / 10000\n",
      "Epoch 20: 9442 / 10000\n",
      "Epoch 21: 9420 / 10000\n",
      "Epoch 22: 9451 / 10000\n",
      "Epoch 23: 9445 / 10000\n",
      "Epoch 24: 9456 / 10000\n",
      "Epoch 25: 9435 / 10000\n",
      "Epoch 26: 9462 / 10000\n",
      "Epoch 27: 9474 / 10000\n",
      "Epoch 28: 9464 / 10000\n",
      "Epoch 29: 9456 / 10000\n"
     ]
    }
   ],
   "source": [
    "net = network.Network([784, 30, 10])\n",
    "net.SGD(training_data, 30, 10, 3.0, test_data=test_data)"
   ]
  },
  {
   "cell_type": "code",
   "execution_count": 4,
   "metadata": {},
   "outputs": [],
   "source": [
    "validation_data = list(validation_data)\n",
    "test_data = list(test_data)"
   ]
  },
  {
   "cell_type": "code",
   "execution_count": 5,
   "metadata": {},
   "outputs": [],
   "source": [
    "test_image = test_data[0][0]\n",
    "test_label = test_data[0][1]\n",
    "prediction = net.feedforward(test_image)\n",
    "predicted_label = np.argmax(prediction)"
   ]
  },
  {
   "cell_type": "code",
   "execution_count": 7,
   "metadata": {},
   "outputs": [
    {
     "data": {
      "image/png": "[encoded data removed]",
      "text/plain": [
       "<Figure size 432x288 with 1 Axes>"
      ]
     },
     "metadata": {
      "needs_background": "light"
     },
     "output_type": "display_data"
    }
   ],
   "source": [
    "plt.imshow(test_image.reshape(28, 28), cmap='gray')\n",
    "plt.title('Predicted label: {0}'.format(predicted_label))\n",
    "plt.show()"
   ]
  },
  {
   "cell_type": "code",
   "execution_count": null,
   "metadata": {},
   "outputs": [],
   "source": []
  }
 ],
 "metadata": {
  "kernelspec": {
   "display_name": "Python 2",
   "language": "python",
   "name": "python2"
  },
  "language_info": {
   "codemirror_mode": {
    "name": "ipython",
    "version": 2
   },
   "file_extension": ".py",
   "mimetype": "text/x-python",
   "name": "python",
   "nbconvert_exporter": "python",
   "pygments_lexer": "ipython2",
   "version": "2.7.18"
  }
 },
 "nbformat": 4,
 "nbformat_minor": 2
}
